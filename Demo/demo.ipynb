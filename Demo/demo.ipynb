{
 "cells": [
  {
   "cell_type": "code",
   "execution_count": 1,
   "metadata": {},
   "outputs": [],
   "source": [
    "import folium"
   ]
  },
  {
   "cell_type": "code",
   "execution_count": 2,
   "metadata": {},
   "outputs": [],
   "source": [
    "from grouped_layer_control import GroupedLayerControl"
   ]
  },
  {
   "cell_type": "code",
   "execution_count": 3,
   "metadata": {},
   "outputs": [
    {
     "data": {
      "text/plain": [
       "<grouped_layer_control.GroupedLayerControl at 0x28370c929e8>"
      ]
     },
     "execution_count": 3,
     "metadata": {},
     "output_type": "execute_result"
    }
   ],
   "source": [
    "m = folium.Map(location = [29,73], zoom_start = 4)\n",
    "\n",
    "fg1 = folium.map.FeatureGroup(name='Group 1', show = True)\n",
    "folium.Marker([25.3548,51.1839], tooltip=\"Qatar\").add_to(fg1)\n",
    "fg1.add_to(m)\n",
    "\n",
    "fg2 = folium.map.FeatureGroup(name='Group 2', show = True)\n",
    "folium.Marker([20.5937,78.9629], tooltip=\"India\").add_to(fg2)\n",
    "fg2.add_to(m)\n",
    "\n",
    "fg3 = folium.map.FeatureGroup(name='Group 3', show = True)\n",
    "folium.Marker([35.8617,104.1954], tooltip=\"China\").add_to(fg3)\n",
    "fg3.add_to(m)\n",
    "\n",
    "\n",
    "GroupedLayerControl({}, {'Category 1' : {'India' : fg2 , 'China' : fg3},\n",
    "                         'Category 2': {\"Qatar\" : fg1}\n",
    "                        }, ['Category 1']).add_to(m)"
   ]
  },
  {
   "cell_type": "code",
   "execution_count": 4,
   "metadata": {},
   "outputs": [],
   "source": [
    "m.save('demo.html')"
   ]
  }
 ],
 "metadata": {
  "kernelspec": {
   "display_name": "Python 3",
   "language": "python",
   "name": "python3"
  },
  "language_info": {
   "codemirror_mode": {
    "name": "ipython",
    "version": 3
   },
   "file_extension": ".py",
   "mimetype": "text/x-python",
   "name": "python",
   "nbconvert_exporter": "python",
   "pygments_lexer": "ipython3",
   "version": "3.7.1"
  }
 },
 "nbformat": 4,
 "nbformat_minor": 2
}
